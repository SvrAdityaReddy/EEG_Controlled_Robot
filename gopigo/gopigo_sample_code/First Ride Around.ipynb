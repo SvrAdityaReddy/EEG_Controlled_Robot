{
 "cells": [
  {
   "cell_type": "markdown",
   "metadata": {},
   "source": [
    "# Welcome to Your First Ride with the GoPiGo3"
   ]
  },
  {
   "cell_type": "markdown",
   "metadata": {},
   "source": [
    "Your first step is to load the libraries that will let you control the robot.\n",
    "\n",
    "Select the following cell, and press Shift-Enter to run it. "
   ]
  },
  {
   "cell_type": "code",
   "execution_count": null,
   "metadata": {},
   "outputs": [],
   "source": [
    "from ipywidgets import widgets, Layout\n",
    "import easygopigo3 as easy\n",
    "\n",
    "my_gpg3 = easy.EasyGoPiGo3()"
   ]
  },
  {
   "cell_type": "markdown",
   "metadata": {},
   "source": [
    "The next cell will display buttons that will let you drive the GoPiGo3 around. \n",
    "\n",
    "Select the cell and press Shift-Enter. \n",
    "\n",
    "Then press the buttons to command the robot."
   ]
  },
  {
   "cell_type": "code",
   "execution_count": null,
   "metadata": {},
   "outputs": [],
   "source": [
    "darkgrey = '#888888'\n",
    "items_layout = Layout(flex='1 1 auto',\n",
    "                      width='auto')     # override the default width of the button to 'auto' to let the button grow\n",
    "\n",
    "box_layout = Layout(display='flex',\n",
    "                    flex_flow='column',\n",
    "                    align_items='stretch',\n",
    "                    border='solid',\n",
    "                    width='30%')\n",
    "\n",
    "def on_forward_clicked(b):\n",
    "    my_gpg3.forward()\n",
    "    \n",
    "def on_backward_clicked(b):\n",
    "    my_gpg3.backward()\n",
    "    \n",
    "def on_stop_clicked(b):\n",
    "    my_gpg3.stop()\n",
    "    \n",
    "def on_left_clicked(b):\n",
    "    my_gpg3.left()\n",
    "    \n",
    "def on_right_clicked(b):\n",
    "    my_gpg3.right()\n",
    "    \n",
    "buttons = []\n",
    "descriptions = [\"Go Forward\", \"Left\", \"STOP\", \"Right\" , \"Go Backward\"]\n",
    "callbacks = [on_forward_clicked, on_left_clicked, on_stop_clicked, on_right_clicked, on_backward_clicked ]\n",
    "for i in range(5):\n",
    "    buttons.append(widgets.Button(description=descriptions[i], layout=items_layout))\n",
    "    buttons[i].style.button_color = darkgrey\n",
    "    buttons[i].on_click(callbacks[i])\n",
    "\n",
    "buttons[2].style.button_color = 'red'  # stop button\n",
    "\n",
    "mid_row = widgets.HBox([buttons[1], buttons[2], buttons[3] ])\n",
    "display(widgets.VBox([buttons[0], mid_row, buttons[4]], layout=box_layout))"
   ]
  },
  {
   "cell_type": "code",
   "execution_count": null,
   "metadata": {},
   "outputs": [],
   "source": []
  }
 ],
 "metadata": {
  "kernelspec": {
   "display_name": "Python 3",
   "language": "python",
   "name": "python3"
  },
  "language_info": {
   "codemirror_mode": {
    "name": "ipython",
    "version": 3
   },
   "file_extension": ".py",
   "mimetype": "text/x-python",
   "name": "python",
   "nbconvert_exporter": "python",
   "pygments_lexer": "ipython3",
   "version": "3.4.3"
  }
 },
 "nbformat": 4,
 "nbformat_minor": 2
}
